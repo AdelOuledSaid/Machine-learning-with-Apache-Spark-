{
 "cells": [
  {
   "cell_type": "markdown",
   "id": "6a603458-8d6d-46f3-874c-378711d238c4",
   "metadata": {},
   "source": [
    "## Metrics for Classification"
   ]
  },
  {
   "cell_type": "code",
   "execution_count": 5,
   "id": "68c266ae-8124-45a8-afeb-546f369843ea",
   "metadata": {},
   "outputs": [],
   "source": [
    "import pandas as pd \n",
    "\n",
    "from sklearn.linear_model import LogisticRegression\n",
    "from sklearn.model_selection import train_test_split\n",
    "from sklearn.metrics import  confusion_matrix\n",
    "from sklearn.metrics import precision_score\n",
    "from sklearn.metrics import recall_score\n",
    "from sklearn.metrics import f1_score"
   ]
  },
  {
   "cell_type": "code",
   "execution_count": 6,
   "id": "26ec1175-f8bb-4f36-b36f-3f8161eb3bd8",
   "metadata": {},
   "outputs": [],
   "source": [
    "url = 'https://raw.githubusercontent.com/AdelOuledSaid/Python-for-Data-Science-AI-Development/main/Python%20Basics/diabetes.csv'\n",
    "df = pd.read_csv(url)\n"
   ]
  },
  {
   "cell_type": "code",
   "execution_count": 7,
   "id": "ff3a6406-5d61-43c8-aa47-c1fc2a940c24",
   "metadata": {},
   "outputs": [
    {
     "data": {
      "text/html": [
       "<div>\n",
       "<style scoped>\n",
       "    .dataframe tbody tr th:only-of-type {\n",
       "        vertical-align: middle;\n",
       "    }\n",
       "\n",
       "    .dataframe tbody tr th {\n",
       "        vertical-align: top;\n",
       "    }\n",
       "\n",
       "    .dataframe thead th {\n",
       "        text-align: right;\n",
       "    }\n",
       "</style>\n",
       "<table border=\"1\" class=\"dataframe\">\n",
       "  <thead>\n",
       "    <tr style=\"text-align: right;\">\n",
       "      <th></th>\n",
       "      <th>Pregnancies</th>\n",
       "      <th>Glucose</th>\n",
       "      <th>BloodPressure</th>\n",
       "      <th>SkinThickness</th>\n",
       "      <th>Insulin</th>\n",
       "      <th>BMI</th>\n",
       "      <th>DiabetesPedigreeFunction</th>\n",
       "      <th>Age</th>\n",
       "      <th>Outcome</th>\n",
       "    </tr>\n",
       "  </thead>\n",
       "  <tbody>\n",
       "    <tr>\n",
       "      <th>169</th>\n",
       "      <td>3</td>\n",
       "      <td>111</td>\n",
       "      <td>90</td>\n",
       "      <td>12</td>\n",
       "      <td>78</td>\n",
       "      <td>28.4</td>\n",
       "      <td>0.495</td>\n",
       "      <td>29</td>\n",
       "      <td>0</td>\n",
       "    </tr>\n",
       "    <tr>\n",
       "      <th>37</th>\n",
       "      <td>9</td>\n",
       "      <td>102</td>\n",
       "      <td>76</td>\n",
       "      <td>37</td>\n",
       "      <td>0</td>\n",
       "      <td>32.9</td>\n",
       "      <td>0.665</td>\n",
       "      <td>46</td>\n",
       "      <td>1</td>\n",
       "    </tr>\n",
       "    <tr>\n",
       "      <th>528</th>\n",
       "      <td>0</td>\n",
       "      <td>117</td>\n",
       "      <td>66</td>\n",
       "      <td>31</td>\n",
       "      <td>188</td>\n",
       "      <td>30.8</td>\n",
       "      <td>0.493</td>\n",
       "      <td>22</td>\n",
       "      <td>0</td>\n",
       "    </tr>\n",
       "    <tr>\n",
       "      <th>584</th>\n",
       "      <td>8</td>\n",
       "      <td>124</td>\n",
       "      <td>76</td>\n",
       "      <td>24</td>\n",
       "      <td>600</td>\n",
       "      <td>28.7</td>\n",
       "      <td>0.687</td>\n",
       "      <td>52</td>\n",
       "      <td>1</td>\n",
       "    </tr>\n",
       "    <tr>\n",
       "      <th>624</th>\n",
       "      <td>2</td>\n",
       "      <td>108</td>\n",
       "      <td>64</td>\n",
       "      <td>0</td>\n",
       "      <td>0</td>\n",
       "      <td>30.8</td>\n",
       "      <td>0.158</td>\n",
       "      <td>21</td>\n",
       "      <td>0</td>\n",
       "    </tr>\n",
       "  </tbody>\n",
       "</table>\n",
       "</div>"
      ],
      "text/plain": [
       "     Pregnancies  Glucose  BloodPressure  SkinThickness  Insulin   BMI  \\\n",
       "169            3      111             90             12       78  28.4   \n",
       "37             9      102             76             37        0  32.9   \n",
       "528            0      117             66             31      188  30.8   \n",
       "584            8      124             76             24      600  28.7   \n",
       "624            2      108             64              0        0  30.8   \n",
       "\n",
       "     DiabetesPedigreeFunction  Age  Outcome  \n",
       "169                     0.495   29        0  \n",
       "37                      0.665   46        1  \n",
       "528                     0.493   22        0  \n",
       "584                     0.687   52        1  \n",
       "624                     0.158   21        0  "
      ]
     },
     "execution_count": 7,
     "metadata": {},
     "output_type": "execute_result"
    }
   ],
   "source": [
    "df.sample(5)"
   ]
  },
  {
   "cell_type": "code",
   "execution_count": 8,
   "id": "ae0eeb27-5e92-4553-93e5-e3fd4b200b1b",
   "metadata": {},
   "outputs": [
    {
     "data": {
      "text/plain": [
       "0    500\n",
       "1    268\n",
       "Name: Outcome, dtype: int64"
      ]
     },
     "execution_count": 8,
     "metadata": {},
     "output_type": "execute_result"
    }
   ],
   "source": [
    "df.Outcome.value_counts()"
   ]
  },
  {
   "cell_type": "code",
   "execution_count": null,
   "id": "49112dd7-2240-4678-ad4b-ba7b31c7d96b",
   "metadata": {},
   "outputs": [],
   "source": [
    "df.Outcome.value_counts().plot.bar()"
   ]
  },
  {
   "cell_type": "markdown",
   "id": "5d4237e3-d8a7-4425-b51d-e886960ea02e",
   "metadata": {},
   "source": [
    " #### Identify the target column and the data columns"
   ]
  },
  {
   "cell_type": "code",
   "execution_count": null,
   "id": "baa89790-f60a-46a8-88d5-676f40c6c685",
   "metadata": {},
   "outputs": [],
   "source": [
    "y = df[\"Outcome\"]"
   ]
  },
  {
   "cell_type": "code",
   "execution_count": null,
   "id": "48571d0d-9e51-4362-935c-d00929d887e4",
   "metadata": {},
   "outputs": [],
   "source": [
    "X = df[['Pregnancies', 'Glucose', 'BloodPressure', 'SkinThickness', 'Insulin',\n",
    "       'BMI', 'DiabetesPedigreeFunction', 'Age']]"
   ]
  },
  {
   "cell_type": "markdown",
   "id": "945f0146-51f8-4029-be4b-a33ea2389f73",
   "metadata": {},
   "source": [
    "* Split the data set"
   ]
  },
  {
   "cell_type": "code",
   "execution_count": null,
   "id": "bb6d76ae-8af6-4adb-876a-81a3a4ee5aed",
   "metadata": {},
   "outputs": [],
   "source": [
    "X_train, X_test, y_train, y_test = train_test_split(X, y, test_size=0.30, random_state=40)\n"
   ]
  },
  {
   "cell_type": "markdown",
   "id": "0f972fce-bfc1-4544-b4bb-9831123f276a",
   "metadata": {},
   "source": [
    "* Build and train a classifier"
   ]
  },
  {
   "cell_type": "code",
   "execution_count": null,
   "id": "261a35eb-c595-42f5-9081-69316d282d3c",
   "metadata": {},
   "outputs": [],
   "source": [
    "classifier = LogisticRegression()"
   ]
  },
  {
   "cell_type": "code",
   "execution_count": null,
   "id": "a10a0aaf-a6e4-4fe9-94f7-96736c5f9af4",
   "metadata": {},
   "outputs": [],
   "source": [
    "classifier.fit(X_train,y_train)"
   ]
  },
  {
   "cell_type": "markdown",
   "id": "c86b6733-ab43-42c4-aef7-73736e7fb733",
   "metadata": {},
   "source": [
    " #### Evaluate the model"
   ]
  },
  {
   "cell_type": "code",
   "execution_count": null,
   "id": "5aa6e934-4f7e-4022-96b6-0361cb82e49a",
   "metadata": {},
   "outputs": [],
   "source": [
    "classifier.score(X_test,y_test)"
   ]
  },
  {
   "cell_type": "code",
   "execution_count": null,
   "id": "96b9e0e1-d85c-4024-9153-463461df9eb8",
   "metadata": {},
   "outputs": [],
   "source": [
    "original_values = y_test\n",
    "predicted_values = classifier.predict(X_test)\n"
   ]
  },
  {
   "cell_type": "markdown",
   "id": "df301335-1d3d-430f-93bd-38c9d04f43a2",
   "metadata": {},
   "source": [
    "* Precision"
   ]
  },
  {
   "cell_type": "code",
   "execution_count": null,
   "id": "ec36a679-c415-4d05-aafb-e2e8c867b170",
   "metadata": {},
   "outputs": [],
   "source": [
    "precision_score(original_values , predicted_values)"
   ]
  },
  {
   "cell_type": "markdown",
   "id": "3b6b822e-7673-4e18-964d-507deaf89a4a",
   "metadata": {},
   "source": [
    "* Recall"
   ]
  },
  {
   "cell_type": "code",
   "execution_count": null,
   "id": "58a85978-568a-4b7f-82c1-e3e45fb6f516",
   "metadata": {},
   "outputs": [],
   "source": [
    "recall_score( original_values, predicted_values)"
   ]
  },
  {
   "cell_type": "markdown",
   "id": "30bdabb5-902a-4903-ba94-251deb9ded6b",
   "metadata": {},
   "source": [
    "* f1_score"
   ]
  },
  {
   "cell_type": "code",
   "execution_count": null,
   "id": "04572fec-55d6-4d08-9a35-5a6c646db7b8",
   "metadata": {},
   "outputs": [],
   "source": [
    "f1_score(original_values, predicted_values) "
   ]
  },
  {
   "cell_type": "markdown",
   "id": "d27a1806-a0a5-4a84-8dd7-1ae301ea20e6",
   "metadata": {},
   "source": [
    "* Confusion Matrix "
   ]
  },
  {
   "cell_type": "code",
   "execution_count": null,
   "id": "b964b42f-7143-4010-a568-e37a37f2a456",
   "metadata": {},
   "outputs": [],
   "source": [
    "confusion_matrix(original_values, predicted_values) "
   ]
  }
 ],
 "metadata": {
  "kernelspec": {
   "display_name": "Python 3 (ipykernel)",
   "language": "python",
   "name": "python3"
  },
  "language_info": {
   "codemirror_mode": {
    "name": "ipython",
    "version": 3
   },
   "file_extension": ".py",
   "mimetype": "text/x-python",
   "name": "python",
   "nbconvert_exporter": "python",
   "pygments_lexer": "ipython3",
   "version": "3.10.11"
  }
 },
 "nbformat": 4,
 "nbformat_minor": 5
}
