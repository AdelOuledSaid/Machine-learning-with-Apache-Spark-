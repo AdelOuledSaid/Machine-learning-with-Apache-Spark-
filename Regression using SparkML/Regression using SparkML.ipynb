{
 "cells": [
  {
   "cell_type": "markdown",
   "id": "14ce85bf-1960-4246-ba18-8befa135c4b1",
   "metadata": {},
   "source": [
    "## Linear Regression using SparkML"
   ]
  },
  {
   "cell_type": "code",
   "execution_count": 18,
   "id": "ceae79fc-346d-4019-946f-4669f24e0e64",
   "metadata": {},
   "outputs": [],
   "source": [
    "!pip install pyspark==3.1.2 -q\n",
    "!pip install findspark -q"
   ]
  },
  {
   "cell_type": "code",
   "execution_count": 19,
   "id": "76604868-5a2e-4984-8d5b-d47b1a1ad3ab",
   "metadata": {},
   "outputs": [],
   "source": [
    "import pandas as pd\n",
    "import findspark\n",
    "findspark.init()\n",
    "from pyspark.sql import SparkSession \n",
    "from pyspark.ml.feature import VectorAssembler \n",
    "from pyspark.ml.regression import LinearRegression\n",
    "from pyspark.ml.evaluation import RegressionEvaluator\n"
   ]
  },
  {
   "cell_type": "markdown",
   "id": "597d38fe-9708-4772-8bae-ca8e9053eeec",
   "metadata": {},
   "source": [
    "#### Create a Spark Session"
   ]
  },
  {
   "cell_type": "code",
   "execution_count": 20,
   "id": "eb00fd11-7692-40d4-a80d-c4063d8376ef",
   "metadata": {},
   "outputs": [],
   "source": [
    "Spark = SparkSession.builder.appName(' Regression using SparkML').getOrCreate()"
   ]
  },
  {
   "cell_type": "markdown",
   "id": "a851b42c-3166-48d4-8022-c322bf993592",
   "metadata": {},
   "source": [
    "##### Load the data in a csv file into a dataframe"
   ]
  },
  {
   "cell_type": "code",
   "execution_count": 21,
   "id": "90452b8e-83ee-4f44-b3b5-bf0a6b24a0fb",
   "metadata": {},
   "outputs": [
    {
     "name": "stderr",
     "output_type": "stream",
     "text": [
      "  % Total    % Received % Xferd  Average Speed   Time    Time     Time  Current\n",
      "                                 Dload  Upload   Total   Spent    Left  Speed\n",
      "\n",
      "  0     0    0     0    0     0      0      0 --:--:-- --:--:-- --:--:--     0\n",
      "100 13891  100 13891    0     0  32704      0 --:--:-- --:--:-- --:--:-- 32839\n"
     ]
    }
   ],
   "source": [
    "!curl -o mpg.csv https://raw.githubusercontent.com/AdelOuledSaid/Machine-learning-with-Apache-Spark-/main/Prediction%20Model%20using%20Linear%20Regression/mpg%20(1).csv\n",
    "\n"
   ]
  },
  {
   "cell_type": "code",
   "execution_count": 22,
   "id": "e3e28676-398e-4a4a-9ff5-d51343987a6d",
   "metadata": {},
   "outputs": [],
   "source": [
    "mpg_data = Spark.read.csv(\"mpg.csv\", header=True, inferSchema=True)\n"
   ]
  },
  {
   "cell_type": "markdown",
   "id": "a6deb76a-8295-431b-af97-9b0dafa64700",
   "metadata": {},
   "source": [
    "mpg_data.printSchema()"
   ]
  },
  {
   "cell_type": "code",
   "execution_count": 25,
   "id": "c071d967-4752-4050-865b-b077c344649b",
   "metadata": {},
   "outputs": [
    {
     "name": "stdout",
     "output_type": "stream",
     "text": [
      "+----+---------+-----------+----------+------+----------+----+--------+\n",
      "| MPG|Cylinders|Engine Disp|Horsepower|Weight|Accelerate|Year|  Origin|\n",
      "+----+---------+-----------+----------+------+----------+----+--------+\n",
      "|15.0|        8|      390.0|       190|  3850|       8.5|  70|American|\n",
      "|21.0|        6|      199.0|        90|  2648|      15.0|  70|American|\n",
      "|18.0|        6|      199.0|        97|  2774|      15.5|  70|American|\n",
      "|16.0|        8|      304.0|       150|  3433|      12.0|  70|American|\n",
      "|14.0|        8|      455.0|       225|  3086|      10.0|  70|American|\n",
      "+----+---------+-----------+----------+------+----------+----+--------+\n",
      "only showing top 5 rows\n",
      "\n"
     ]
    }
   ],
   "source": [
    "mpg_data.show(5)"
   ]
  },
  {
   "cell_type": "markdown",
   "id": "1827fe3e-fd0a-483c-9d5f-93b3a88c860d",
   "metadata": {},
   "source": [
    " ##### Identify the label column and the input columns"
   ]
  },
  {
   "cell_type": "code",
   "execution_count": 43,
   "id": "aff33f80-f0b8-4c75-99bc-45cfd2c835e2",
   "metadata": {},
   "outputs": [],
   "source": [
    "assembler= VectorAssembler( inputCols = [ 'Cylinders', 'Engine Disp' , 'Horsepower', 'Weight' , 'Accelerate' ,  'Year'], outputCol = 'features')\n",
    "mpg_transform_data = assembler.transform(mpg_data)"
   ]
  },
  {
   "cell_type": "code",
   "execution_count": 44,
   "id": "e6c4853c-eca8-4794-9d0f-57759abf8afc",
   "metadata": {},
   "outputs": [
    {
     "name": "stdout",
     "output_type": "stream",
     "text": [
      "+----+---------+-----------+----------+------+----------+----+--------+--------------------+\n",
      "| MPG|Cylinders|Engine Disp|Horsepower|Weight|Accelerate|Year|  Origin|            features|\n",
      "+----+---------+-----------+----------+------+----------+----+--------+--------------------+\n",
      "|15.0|        8|      390.0|       190|  3850|       8.5|  70|American|[8.0,390.0,190.0,...|\n",
      "|21.0|        6|      199.0|        90|  2648|      15.0|  70|American|[6.0,199.0,90.0,2...|\n",
      "|18.0|        6|      199.0|        97|  2774|      15.5|  70|American|[6.0,199.0,97.0,2...|\n",
      "|16.0|        8|      304.0|       150|  3433|      12.0|  70|American|[8.0,304.0,150.0,...|\n",
      "|14.0|        8|      455.0|       225|  3086|      10.0|  70|American|[8.0,455.0,225.0,...|\n",
      "+----+---------+-----------+----------+------+----------+----+--------+--------------------+\n",
      "only showing top 5 rows\n",
      "\n"
     ]
    }
   ],
   "source": [
    "mpg_transform_data.show(5)"
   ]
  },
  {
   "cell_type": "code",
   "execution_count": 45,
   "id": "922b5a1e-3339-4d38-a74c-b31f4f449db9",
   "metadata": {},
   "outputs": [
    {
     "name": "stdout",
     "output_type": "stream",
     "text": [
      "+--------------------+----+\n",
      "|            features| MPG|\n",
      "+--------------------+----+\n",
      "|[8.0,390.0,190.0,...|15.0|\n",
      "|[6.0,199.0,90.0,2...|21.0|\n",
      "|[6.0,199.0,97.0,2...|18.0|\n",
      "|[8.0,304.0,150.0,...|16.0|\n",
      "|[8.0,455.0,225.0,...|14.0|\n",
      "+--------------------+----+\n",
      "only showing top 5 rows\n",
      "\n"
     ]
    }
   ],
   "source": [
    "mpg_transform_data.select(\"features\",\"MPG\").show(5)"
   ]
  },
  {
   "cell_type": "markdown",
   "id": "71d614ea-0738-41cd-8606-074646fe56a8",
   "metadata": {},
   "source": [
    " * Split  data "
   ]
  },
  {
   "cell_type": "code",
   "execution_count": 52,
   "id": "c1eac98c-4fa9-4c5b-9193-2f10893f15ef",
   "metadata": {},
   "outputs": [],
   "source": [
    "train_data , test_data  = mpg_transform_data.randomSplit([0.7, 0.3], seed=42)"
   ]
  },
  {
   "cell_type": "markdown",
   "id": "b2e5ba34-4dd8-4519-b5c2-782997ea9a60",
   "metadata": {},
   "source": [
    " #### Build and Train a Linear Regression Model"
   ]
  },
  {
   "cell_type": "code",
   "execution_count": 56,
   "id": "61d5a2b1-ef00-4292-8c45-a0fdbb877b69",
   "metadata": {},
   "outputs": [],
   "source": [
    "lr = LinearRegression( featuresCol = 'features', labelCol ='MPG')"
   ]
  },
  {
   "cell_type": "code",
   "execution_count": 57,
   "id": "2d0af264-8f88-492f-94e6-9478cf50d038",
   "metadata": {},
   "outputs": [],
   "source": [
    "model = lr.fit(train_data)"
   ]
  },
  {
   "cell_type": "markdown",
   "id": "fda8dd7a-4c4c-4d58-be02-ebf5b71eb1ef",
   "metadata": {},
   "source": [
    " #### Evaluate the model"
   ]
  },
  {
   "cell_type": "code",
   "execution_count": 58,
   "id": "e6e044f5-61d4-4964-afb3-d3710c264116",
   "metadata": {},
   "outputs": [],
   "source": [
    "predict = model.transform(test_data)"
   ]
  },
  {
   "cell_type": "markdown",
   "id": "8aa67ba5-4f5f-46f6-a20d-faba4ee95986",
   "metadata": {},
   "source": [
    " * R Squared"
   ]
  },
  {
   "cell_type": "code",
   "execution_count": 61,
   "id": "9c963898-e8c5-4cbb-94d6-fe687beb4826",
   "metadata": {},
   "outputs": [],
   "source": [
    "evalteur= RegressionEvaluator( labelCol = \"MPG\" , predictionCol = \"prediction\" , metricName=\"r2\")"
   ]
  },
  {
   "cell_type": "code",
   "execution_count": 64,
   "id": "dc1f6717-2a0b-4e9d-959f-e9107441f29a",
   "metadata": {},
   "outputs": [
    {
     "data": {
      "text/plain": [
       "0.8046190375720326"
      ]
     },
     "execution_count": 64,
     "metadata": {},
     "output_type": "execute_result"
    }
   ],
   "source": [
    "r2= evalteur.evaluate(predict)\n",
    "r2"
   ]
  },
  {
   "cell_type": "code",
   "execution_count": 65,
   "id": "184fafd6-3fe4-4d4e-8073-a028e0e0d172",
   "metadata": {},
   "outputs": [
    {
     "data": {
      "text/plain": [
       "3.453104969079216"
      ]
     },
     "execution_count": 65,
     "metadata": {},
     "output_type": "execute_result"
    }
   ],
   "source": [
    "evalteur= RegressionEvaluator( labelCol = \"MPG\" , predictionCol = \"prediction\" , metricName=\"rmse\")\n",
    "rmse= evalteur.evaluate(predict)\n",
    "rmse"
   ]
  },
  {
   "cell_type": "code",
   "execution_count": 66,
   "id": "5259516e-7556-4538-9c64-c02d0954d6ec",
   "metadata": {},
   "outputs": [
    {
     "data": {
      "text/plain": [
       "2.842391179195012"
      ]
     },
     "execution_count": 66,
     "metadata": {},
     "output_type": "execute_result"
    }
   ],
   "source": [
    "evalteur= RegressionEvaluator( labelCol = \"MPG\" , predictionCol = \"prediction\" , metricName=\"mae\")\n",
    "mae= evalteur.evaluate(predict)\n",
    "mae"
   ]
  },
  {
   "cell_type": "code",
   "execution_count": null,
   "id": "12a091a4-bb1f-44df-b4fd-28fbe3b5163a",
   "metadata": {},
   "outputs": [],
   "source": [
    "spark.stop()"
   ]
  }
 ],
 "metadata": {
  "kernelspec": {
   "display_name": "Python 3 (ipykernel)",
   "language": "python",
   "name": "python3"
  },
  "language_info": {
   "codemirror_mode": {
    "name": "ipython",
    "version": 3
   },
   "file_extension": ".py",
   "mimetype": "text/x-python",
   "name": "python",
   "nbconvert_exporter": "python",
   "pygments_lexer": "ipython3",
   "version": "3.10.11"
  }
 },
 "nbformat": 4,
 "nbformat_minor": 5
}
