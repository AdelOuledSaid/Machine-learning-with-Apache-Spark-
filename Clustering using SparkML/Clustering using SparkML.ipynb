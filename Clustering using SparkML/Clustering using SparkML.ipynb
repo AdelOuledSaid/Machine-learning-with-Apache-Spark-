{
 "cells": [
  {
   "cell_type": "markdown",
   "id": "a27aa0c1-c1d1-403a-8847-eb32325ebe7e",
   "metadata": {},
   "source": [
    " ## Clustering using SparkML"
   ]
  },
  {
   "cell_type": "code",
   "execution_count": null,
   "id": "ffc76b44-08bb-42b1-b185-0c4ac92bd5f9",
   "metadata": {},
   "outputs": [],
   "source": [
    "!pip install pyspark==3.1.2 -q\n",
    "!pip install findspark -q"
   ]
  },
  {
   "cell_type": "code",
   "execution_count": 1,
   "id": "db58547c-7f3e-4bc8-bda0-c7ae4a6ea3cf",
   "metadata": {},
   "outputs": [],
   "source": [
    "import findspark\n",
    "findspark.init()\n",
    "\n",
    "#import functions/Classes for sparkml\n",
    "\n",
    "from pyspark.ml.clustering import KMeans\n",
    "from pyspark.ml.feature import VectorAssembler\n",
    "\n",
    "from pyspark.sql import SparkSession"
   ]
  },
  {
   "cell_type": "markdown",
   "id": "dd36c8ea-66da-4785-aa32-69f2de991629",
   "metadata": {},
   "source": [
    "* Create a spark session"
   ]
  },
  {
   "cell_type": "code",
   "execution_count": 2,
   "id": "b5ba9cd4-9f13-48de-aec7-e82981b81469",
   "metadata": {},
   "outputs": [],
   "source": [
    "spark = SparkSession.builder.appName(\"Clustering using SparkML\").getOrCreate()"
   ]
  },
  {
   "cell_type": "markdown",
   "id": "2982a39d-8cea-49ed-9ae6-cb43645ceb9d",
   "metadata": {},
   "source": [
    "* Load the data in a csv file into a dataframe"
   ]
  },
  {
   "cell_type": "code",
   "execution_count": 3,
   "id": "a46d1d56-9539-4191-a0cd-4126edd0e4be",
   "metadata": {},
   "outputs": [
    {
     "name": "stderr",
     "output_type": "stream",
     "text": [
      "  % Total    % Received % Xferd  Average Speed   Time    Time     Time  Current\n",
      "                                 Dload  Upload   Total   Spent    Left  Speed\n",
      "\n",
      "  0     0    0     0    0     0      0      0 --:--:-- --:--:-- --:--:--     0\n",
      "100  8909  100  8909    0     0  14361      0 --:--:-- --:--:-- --:--:-- 14415\n"
     ]
    }
   ],
   "source": [
    "  !curl -o customers.csv https://raw.githubusercontent.com/AdelOuledSaid/Machine-learning-with-Apache-Spark-/main/Classification%20using%20SparkML/customers.csv"
   ]
  },
  {
   "cell_type": "code",
   "execution_count": 4,
   "id": "d79abec0-f20f-40cf-aa73-87464b143b10",
   "metadata": {},
   "outputs": [],
   "source": [
    "customer_data = spark.read.csv(\"customers.csv\", header=True, inferSchema=True)\n"
   ]
  },
  {
   "cell_type": "code",
   "execution_count": 5,
   "id": "140c7ad7-078c-4290-8a68-bca90b8611d5",
   "metadata": {},
   "outputs": [
    {
     "name": "stdout",
     "output_type": "stream",
     "text": [
      "+----------+----+-------+-----------+\n",
      "|Fresh_Food|Milk|Grocery|Frozen_Food|\n",
      "+----------+----+-------+-----------+\n",
      "|12669     |9656|7561   |214        |\n",
      "|7057      |9810|9568   |1762       |\n",
      "|6353      |8808|7684   |2405       |\n",
      "|13265     |1196|4221   |6404       |\n",
      "|22615     |5410|7198   |3915       |\n",
      "+----------+----+-------+-----------+\n",
      "only showing top 5 rows\n",
      "\n"
     ]
    }
   ],
   "source": [
    "customer_data.show(n=5, truncate=False)"
   ]
  },
  {
   "cell_type": "code",
   "execution_count": null,
   "id": "f4664fe1-e460-47b7-9acd-0180ebf749e4",
   "metadata": {},
   "outputs": [],
   "source": [
    "feature_cols = ['Fresh_Food', 'Milk', 'Grocery', 'Frozen_Food']\n",
    "assembler = VectorAssembler(inputCols=feature_cols, outputCol=\"features\")\n",
    "customer_transformed_data = assembler.transform(customer_data)"
   ]
  },
  {
   "cell_type": "code",
   "execution_count": null,
   "id": "9232e356-b1ca-4678-9523-9f2fa19938a9",
   "metadata": {},
   "outputs": [],
   "source": [
    "number_of_clusters = 3"
   ]
  },
  {
   "cell_type": "markdown",
   "id": "069d58a8-93e3-4c55-9c6f-15b28cd931f7",
   "metadata": {},
   "source": [
    "* Create a clustering model"
   ]
  },
  {
   "cell_type": "code",
   "execution_count": null,
   "id": "a5189864-7233-4a6f-9117-38c5ac67c281",
   "metadata": {},
   "outputs": [],
   "source": [
    "kmeans = KMeans(k = number_of_clusters)\n",
    "model = kmeans.fit(customer_transformed_data)\n"
   ]
  },
  {
   "cell_type": "markdown",
   "id": "7a750695-090e-434c-9d7b-56d84fe732df",
   "metadata": {},
   "source": [
    "* Print Cluster Details"
   ]
  },
  {
   "cell_type": "code",
   "execution_count": null,
   "id": "8a8125e3-6570-4e8f-b4aa-b32b53a79681",
   "metadata": {},
   "outputs": [],
   "source": [
    "predictions = model.transform(customer_transformed_data)"
   ]
  },
  {
   "cell_type": "code",
   "execution_count": null,
   "id": "96baed13-ffcd-4d98-a005-7004ed2123f9",
   "metadata": {},
   "outputs": [],
   "source": [
    "predictions.show(5)"
   ]
  },
  {
   "cell_type": "code",
   "execution_count": null,
   "id": "141bd411-3e87-497c-9145-76978b64904e",
   "metadata": {},
   "outputs": [],
   "source": [
    "predictions.groupBy('prediction').count().show()"
   ]
  }
 ],
 "metadata": {
  "kernelspec": {
   "display_name": "Python 3 (ipykernel)",
   "language": "python",
   "name": "python3"
  },
  "language_info": {
   "codemirror_mode": {
    "name": "ipython",
    "version": 3
   },
   "file_extension": ".py",
   "mimetype": "text/x-python",
   "name": "python",
   "nbconvert_exporter": "python",
   "pygments_lexer": "ipython3",
   "version": "3.10.11"
  }
 },
 "nbformat": 4,
 "nbformat_minor": 5
}
